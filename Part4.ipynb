{
  "nbformat": 4,
  "nbformat_minor": 0,
  "metadata": {
    "colab": {
      "name": "Part4.ipynb",
      "provenance": [],
      "collapsed_sections": [],
      "include_colab_link": true
    },
    "kernelspec": {
      "name": "python3",
      "display_name": "Python 3"
    },
    "accelerator": "GPU"
  },
  "cells": [
    {
      "cell_type": "markdown",
      "metadata": {
        "id": "view-in-github",
        "colab_type": "text"
      },
      "source": [
        "<a href=\"https://colab.research.google.com/github/phd-Master/LSTM_RNN_Tutorials_with_Demo/blob/master/Part4.ipynb\" target=\"_parent\"><img src=\"https://colab.research.google.com/assets/colab-badge.svg\" alt=\"Open In Colab\"/></a>"
      ]
    },
    {
      "cell_type": "code",
      "metadata": {
        "id": "AbdekFG7ylPm",
        "colab_type": "code",
        "colab": {
          "base_uri": "https://localhost:8080/",
          "height": 550
        },
        "outputId": "b61b9089-37cf-4a94-d420-6b198aeff499"
      },
      "source": [
        "\n",
        "import numpy as np \n",
        "np.random.seed(1)\n",
        "\n",
        "input_dim_size = 3\n",
        "hidden_state_size = 4\n",
        "batch = 1\n",
        "\n",
        "W1 = np.random.randn(input_dim_size, hidden_state_size)\n",
        "W2 = np.random.randn(hidden_state_size, hidden_state_size)\n",
        "b_h = np.random.randn(hidden_state_size)\n",
        "\n",
        "Xt = np.random.rand(batch, input_dim_size)\n",
        "h0 = np.zeros(shape=(batch, hidden_state_size))\n",
        " \n",
        "result = np.tanh(np.dot(Xt, W1) + np.dot(h0, W2) + b_h)\n",
        "print('W1.shape : {} '.format(W1.shape))\n",
        "print('W2.shape : {} '.format(W2.shape))\n",
        "print('Xt.shape : {} '.format(Xt.shape))\n",
        "print('h0.shape : {} '.format(h0.shape))\n",
        "\n",
        "print('W1 : {} '.format(W1))\n",
        "print('W2 : {} '.format(W2))\n",
        "print('Xt : {} '.format(Xt))\n",
        "print('h0 : {} '.format(h0))\n",
        "\n",
        "# now lets stack them together\n",
        "W3 = np.vstack((W1, W2))\n",
        "\n",
        "print('nNow, lets stack the weights and the inputs together: ')\n",
        "print('W3.shape : {}'.format(W3.shape))\n",
        "print('W3 : {}'.format(W3))\n",
        "\n",
        "Xth0 = np.hstack((Xt, h0))\n",
        "print('Xth0.shape: {}'.format(Xth0.shape))\n",
        "print('Xth0 : {}'.format(Xth0))\n",
        "\n",
        "result2 = np.tanh(np.dot(Xth0, W3) + b_h)\n",
        "\n",
        "print('result.shape : {} '.format(result.shape)) \n",
        "print('result2.shape : {} '.format(result2.shape)) \n",
        "\n",
        "print('result : {} '.format(result)) \n",
        "print('result2 : {} '.format(result2))\n"
      ],
      "execution_count": 1,
      "outputs": [
        {
          "output_type": "stream",
          "text": [
            "W1.shape : (3, 4) \n",
            "W2.shape : (4, 4) \n",
            "Xt.shape : (1, 3) \n",
            "h0.shape : (1, 4) \n",
            "W1 : [[ 1.62434536 -0.61175641 -0.52817175 -1.07296862]\n",
            " [ 0.86540763 -2.3015387   1.74481176 -0.7612069 ]\n",
            " [ 0.3190391  -0.24937038  1.46210794 -2.06014071]] \n",
            "W2 : [[-0.3224172  -0.38405435  1.13376944 -1.09989127]\n",
            " [-0.17242821 -0.87785842  0.04221375  0.58281521]\n",
            " [-1.10061918  1.14472371  0.90159072  0.50249434]\n",
            " [ 0.90085595 -0.68372786 -0.12289023 -0.93576943]] \n",
            "Xt : [[0.01936696 0.67883553 0.21162812]] \n",
            "h0 : [[0. 0. 0. 0.]] \n",
            "nNow, lets stack the weights and the inputs together: \n",
            "W3.shape : (7, 4)\n",
            "W3 : [[ 1.62434536 -0.61175641 -0.52817175 -1.07296862]\n",
            " [ 0.86540763 -2.3015387   1.74481176 -0.7612069 ]\n",
            " [ 0.3190391  -0.24937038  1.46210794 -2.06014071]\n",
            " [-0.3224172  -0.38405435  1.13376944 -1.09989127]\n",
            " [-0.17242821 -0.87785842  0.04221375  0.58281521]\n",
            " [-1.10061918  1.14472371  0.90159072  0.50249434]\n",
            " [ 0.90085595 -0.68372786 -0.12289023 -0.93576943]]\n",
            "Xth0.shape: (1, 7)\n",
            "Xth0 : [[0.01936696 0.67883553 0.21162812 0.         0.         0.\n",
            "  0.        ]]\n",
            "result.shape : (1, 4) \n",
            "result2.shape : (1, 4) \n",
            "result : [[ 0.39571463 -0.79928612  0.65952559 -0.87874953]] \n",
            "result2 : [[ 0.39571463 -0.79928612  0.65952559 -0.87874953]] \n"
          ],
          "name": "stdout"
        }
      ]
    }
  ]
}